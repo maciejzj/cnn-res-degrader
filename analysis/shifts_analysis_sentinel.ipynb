{
 "cells": [
  {
   "cell_type": "markdown",
   "id": "6b2f5c5e-84db-4075-9643-de548d995de7",
   "metadata": {},
   "source": [
    "# Shifts analysis"
   ]
  },
  {
   "cell_type": "code",
   "execution_count": 1,
   "id": "cf3d0d19-953e-4413-9d8c-b1d7e728ebf7",
   "metadata": {},
   "outputs": [],
   "source": [
    "import argparse\n",
    "import random\n",
    "import sys\n",
    "import yaml\n",
    "from pathlib import Path\n",
    "from typing import Any, Callable, Dict, Tuple, List\n",
    "\n",
    "import numpy as np\n",
    "from scipy.ndimage import shift\n",
    "from skimage import exposure, io, registration, transform\n",
    "from matplotlib import pyplot as plt\n",
    "from tqdm import tqdm\n",
    "\n",
    "%matplotlib inline"
   ]
  },
  {
   "cell_type": "markdown",
   "id": "b1f46abb-2bfa-49f5-b0af-3368f31812f4",
   "metadata": {},
   "source": [
    "## Utilities"
   ]
  },
  {
   "cell_type": "code",
   "execution_count": 2,
   "id": "b088eae2-c163-4a1a-b85f-775be301996c",
   "metadata": {
    "tags": []
   },
   "outputs": [],
   "source": [
    "def load_data_img_as_array(path: Path) -> np.ndarray:\n",
    "    img = np.expand_dims(io.imread(path, as_gray=False), axis=2)\n",
    "    img = np.clip(img, a_min=None, a_max=pow(2, 14))\n",
    "    img = exposure.rescale_intensity(\n",
    "        img, in_range='uint14', out_range=(0.0, 1.0))\n",
    "    return img"
   ]
  },
  {
   "cell_type": "code",
   "execution_count": 3,
   "id": "cbbf1e5e-47ae-4616-962e-76c2add424f8",
   "metadata": {},
   "outputs": [],
   "source": [
    "def load_obj_from_repr_file(path) -> Any:\n",
    "    with open(path, 'r') as file_:\n",
    "        ret = eval(file_.readline())\n",
    "    return ret"
   ]
  },
  {
   "cell_type": "code",
   "execution_count": 4,
   "id": "99f9bec3-de20-4a71-95e2-044395ad0fc3",
   "metadata": {},
   "outputs": [],
   "source": [
    "def draw_xy_histograms(xy_shifts: Tuple[List[float], List[float]]):\n",
    "    plt.figure(figsize=(12, 5))\n",
    "    plt.subplot(1, 2, 1)\n",
    "    plt.hist(xy_shifts[0], 100)\n",
    "    plt.subplot(1, 2, 2)\n",
    "    plt.hist(xy_shifts[1], 100)\n",
    "    plt.tight_layout()\n",
    "    plt.show()"
   ]
  },
  {
   "cell_type": "markdown",
   "id": "d4cfb697-c92d-492f-9bff-3f5a1951a628",
   "metadata": {},
   "source": [
    "## Data gather\n",
    "\n",
    "### Sentinel-2 artificial `s2ab_ab5`\n",
    "\n",
    "#### In txt files\n",
    "\n",
    "In s2ab_ab5 txt file first LR is registered with the HR. We collect shifts between the rest of LRs and this reference LR (which means HR too)."
   ]
  },
  {
   "cell_type": "code",
   "execution_count": 5,
   "id": "42abc3db-a680-49df-a156-6bdbaa5ae203",
   "metadata": {},
   "outputs": [
    {
     "name": "stderr",
     "output_type": "stream",
     "text": [
      "100%|██████████| 1000/1000 [00:09<00:00, 107.20it/s]\n"
     ]
    }
   ],
   "source": [
    "s2ab_ab5_txt_lr_xy_shifts = [[], []]\n",
    "path = Path('../data/sentinel-2_artificial/')\n",
    "\n",
    "limit = 1000\n",
    "for i, hr_path in zip(tqdm(range(limit), position=0), path.glob('*/**/b8/**/hr.png')):\n",
    "    hr = load_data_img_as_array(hr_path)\n",
    "\n",
    "    translations_path = hr_path.parent/'lr_3x/translations.txt'\n",
    "    translations = load_obj_from_repr_file(translations_path)\n",
    "\n",
    "    for lr_idx in translations.keys():\n",
    "        lr_xy_shifts = [-s for s in translations[lr_idx]]\n",
    "        s2ab_ab5_txt_lr_xy_shifts[0].append(lr_xy_shifts[0])\n",
    "        s2ab_ab5_txt_lr_xy_shifts[1].append(lr_xy_shifts[1])"
   ]
  },
  {
   "cell_type": "code",
   "execution_count": 6,
   "id": "6d9b1347-f94f-4ccc-be73-744306fca11d",
   "metadata": {},
   "outputs": [
    {
     "data": {
      "image/png": "[encoded data removed]",
      "text/plain": [
       "<Figure size 864x360 with 2 Axes>"
      ]
     },
     "metadata": {
      "needs_background": "light"
     },
     "output_type": "display_data"
    }
   ],
   "source": [
    "draw_xy_histograms(s2ab_ab5_txt_lr_xy_shifts)"
   ]
  },
  {
   "cell_type": "markdown",
   "id": "6fb1a6ec-daa2-4d40-9dde-c09bc48b794b",
   "metadata": {},
   "source": [
    "#### In images\n",
    "\n",
    "Here we test what should be the same. We take the exsiting HR img and check shifts between it and the LR images."
   ]
  },
  {
   "cell_type": "code",
   "execution_count": 7,
   "id": "6fa79510-1e59-4fa2-b469-0e4492c53167",
   "metadata": {},
   "outputs": [
    {
     "name": "stderr",
     "output_type": "stream",
     "text": [
      "100%|██████████| 1000/1000 [1:49:42<00:00,  6.58s/it]\n"
     ]
    }
   ],
   "source": [
    "s2ab_ab5_img_hr_xy_shifts = [[], []]\n",
    "path = Path('../data/sentinel-2_artificial/')\n",
    "\n",
    "limit = 1000\n",
    "for i, hr_path in zip(tqdm(range(limit), position=0), path.glob('*/**/b8/**/hr.png')):\n",
    "    hr = load_data_img_as_array(hr_path)\n",
    "    \n",
    "    for lr_path in hr_path.parent.glob('lr_3x/*.png'):\n",
    "        lr = load_data_img_as_array(lr_path)\n",
    "        lr2hr = transform.resize(lr, hr.shape)\n",
    "        s = registration.phase_cross_correlation(lr2hr, hr, upsample_factor=100)[0]\n",
    "        s2ab_ab5_img_hr_xy_shifts[0].append(s[0])\n",
    "        s2ab_ab5_img_hr_xy_shifts[1].append(s[1])"
   ]
  },
  {
   "cell_type": "code",
   "execution_count": 8,
   "id": "7fc65921-7ebb-4b4a-90b7-ef9a6c9dafa4",
   "metadata": {},
   "outputs": [
    {
     "data": {
      "image/png": "[encoded data removed]",
      "text/plain": [
       "<Figure size 864x360 with 2 Axes>"
      ]
     },
     "metadata": {
      "needs_background": "light"
     },
     "output_type": "display_data"
    }
   ],
   "source": [
    "draw_xy_histograms(s2ab_ab5_img_hr_xy_shifts)"
   ]
  },
  {
   "cell_type": "markdown",
   "id": "e12dd119-4d0c-49c1-82b8-0db881d7da27",
   "metadata": {},
   "source": [
    "### Proba-V\n",
    "\n",
    "Like we did for images in band 8 Sentinel-2 artificial, we check shifts between Proba-V HR and corresponding LRs"
   ]
  },
  {
   "cell_type": "code",
   "execution_count": 9,
   "id": "b8c1f787-99c8-44bb-9486-66c9e89fa914",
   "metadata": {},
   "outputs": [
    {
     "name": "stderr",
     "output_type": "stream",
     "text": [
      "100%|██████████| 1000/1000 [2:10:30<00:00,  7.83s/it] \n"
     ]
    }
   ],
   "source": [
    "probav_hr_xy_shifts = [[], []]\n",
    "path = Path('../data/proba-v/')\n",
    "\n",
    "limit = 1000\n",
    "for i, hr_path in zip(tqdm(range(limit), position=0), path.glob('train/*/*/hr.png')):\n",
    "    hr = load_data_img_as_array(hr_path)\n",
    "    \n",
    "    for lr_path in hr_path.parent.glob('lr/*.png'):\n",
    "        lr = load_data_img_as_array(lr_path)\n",
    "        lr2hr = transform.resize(lr, hr.shape)\n",
    "        s = registration.phase_cross_correlation(lr2hr, hr, upsample_factor=100)[0]\n",
    "        probav_hr_xy_shifts[0].append(s[0])\n",
    "        probav_hr_xy_shifts[1].append(s[1])"
   ]
  },
  {
   "cell_type": "code",
   "execution_count": 136,
   "id": "0560919f-6d13-488f-b69d-dc8b176eca7f",
   "metadata": {},
   "outputs": [
    {
     "data": {
      "image/png": "[encoded data removed]",
      "text/plain": [
       "<Figure size 864x360 with 2 Axes>"
      ]
     },
     "metadata": {
      "needs_background": "light"
     },
     "output_type": "display_data"
    }
   ],
   "source": [
    "draw_xy_histograms(probav_hr_xy_shifts)"
   ]
  },
  {
   "cell_type": "code",
   "execution_count": 140,
   "id": "af421a39-f6df-4a37-bd68-ece80ff4117c",
   "metadata": {},
   "outputs": [],
   "source": [
    "p_shifts = np.array(probav_hr_xy_shifts)"
   ]
  },
  {
   "cell_type": "code",
   "execution_count": 141,
   "id": "82944b49-4ab5-42f0-8c8e-f432c14caba7",
   "metadata": {},
   "outputs": [
    {
     "data": {
      "text/plain": [
       "(-187.19, 191.76)"
      ]
     },
     "execution_count": 141,
     "metadata": {},
     "output_type": "execute_result"
    }
   ],
   "source": [
    "p_shifts.min(), p_shifts.max()"
   ]
  },
  {
   "cell_type": "code",
   "execution_count": 142,
   "id": "29cbdd35-6366-4065-8119-747d2240017e",
   "metadata": {},
   "outputs": [
    {
     "data": {
      "text/plain": [
       "array([0.76665444, 1.20256111])"
      ]
     },
     "execution_count": 142,
     "metadata": {},
     "output_type": "execute_result"
    }
   ],
   "source": [
    "p_shifts.mean(axis=1)"
   ]
  },
  {
   "cell_type": "code",
   "execution_count": 143,
   "id": "9474faf2-e982-4656-a847-e060e7b3bbda",
   "metadata": {},
   "outputs": [
    {
     "data": {
      "text/plain": [
       "0.5697222222222222"
      ]
     },
     "execution_count": 143,
     "metadata": {},
     "output_type": "execute_result"
    }
   ],
   "source": [
    "np.all([p_shifts < 1, p_shifts > -1], axis=0).sum() / p_shifts.size"
   ]
  },
  {
   "cell_type": "code",
   "execution_count": 144,
   "id": "2b52b80f-db16-4d08-980f-c5bb18462c75",
   "metadata": {},
   "outputs": [
    {
     "data": {
      "text/plain": [
       "0.9756111111111111"
      ]
     },
     "execution_count": 144,
     "metadata": {},
     "output_type": "execute_result"
    }
   ],
   "source": [
    "np.all([p_shifts < 3, p_shifts > -3], axis=0).sum() / p_shifts.size"
   ]
  },
  {
   "cell_type": "code",
   "execution_count": 145,
   "id": "e7d3c20b-c39f-4429-a52c-b2a647c735d3",
   "metadata": {},
   "outputs": [
    {
     "data": {
      "text/plain": [
       "0.9946666666666667"
      ]
     },
     "execution_count": 145,
     "metadata": {},
     "output_type": "execute_result"
    }
   ],
   "source": [
    "np.all([p_shifts < 4, p_shifts > -4], axis=0).sum() / p_shifts.size"
   ]
  },
  {
   "cell_type": "code",
   "execution_count": 146,
   "id": "322670b2-3240-49e2-8605-b9bb9e59674e",
   "metadata": {},
   "outputs": [],
   "source": [
    "p_xshifts_in_4 = p_shifts[0][np.all([p_shifts[0] < 4, p_shifts[0] > -4], axis=0)]\n",
    "p_yshifts_in_4 = p_shifts[1][np.all([p_shifts[1] < 4, p_shifts[1] > -4], axis=0)]"
   ]
  },
  {
   "cell_type": "code",
   "execution_count": 147,
   "id": "3f5d0f25-a0e7-431d-bf44-3f8619654143",
   "metadata": {},
   "outputs": [
    {
     "data": {
      "image/png": "[encoded data removed]",
      "text/plain": [
       "<Figure size 864x360 with 2 Axes>"
      ]
     },
     "metadata": {
      "needs_background": "light"
     },
     "output_type": "display_data"
    }
   ],
   "source": [
    "draw_xy_histograms((p_xshifts_in_4, p_yshifts_in_4))"
   ]
  }
 ],
 "metadata": {
  "kernelspec": {
   "display_name": "Python 3",
   "language": "python",
   "name": "python3"
  },
  "language_info": {
   "codemirror_mode": {
    "name": "ipython",
    "version": 3
   },
   "file_extension": ".py",
   "mimetype": "text/x-python",
   "name": "python",
   "nbconvert_exporter": "python",
   "pygments_lexer": "ipython3",
   "version": "3.9.7"
  }
 },
 "nbformat": 4,
 "nbformat_minor": 5
}
